{
 "cells": [
  {
   "cell_type": "markdown",
   "metadata": {},
   "source": [
    "# Self-Driving Car Engineer Nanodegree\n",
    "\n",
    "## Deep Learning\n",
    "\n",
    "## Project: Build a Traffic Sign Recognition Classifier\n",
    "\n",
    "In this notebook, a template is provided for you to implement your functionality in stages, which is required to successfully complete this project. If additional code is required that cannot be included in the notebook, be sure that the Python code is successfully imported and included in your submission if necessary. \n",
    "\n",
    "> **Note**: Once you have completed all of the code implementations, you need to finalize your work by exporting the iPython Notebook as an HTML document. Before exporting the notebook to html, all of the code cells need to have been run so that reviewers can see the final implementation and output. You can then export the notebook by using the menu above and navigating to  \\n\",\n",
    "    \"**File -> Download as -> HTML (.html)**. Include the finished document along with this notebook as your submission. \n",
    "\n",
    "In addition to implementing code, there is a writeup to complete. The writeup should be completed in a separate file, which can be either a markdown file or a pdf document. There is a [write up template](https://github.com/udacity/CarND-Traffic-Sign-Classifier-Project/blob/master/writeup_template.md) that can be used to guide the writing process. Completing the code template and writeup template will cover all of the [rubric points](https://review.udacity.com/#!/rubrics/481/view) for this project.\n",
    "\n",
    "The [rubric](https://review.udacity.com/#!/rubrics/481/view) contains \"Stand Out Suggestions\" for enhancing the project beyond the minimum requirements. The stand out suggestions are optional. If you decide to pursue the \"stand out suggestions\", you can include the code in this Ipython notebook and also discuss the results in the writeup file.\n",
    "\n",
    "\n",
    ">**Note:** Code and Markdown cells can be executed using the **Shift + Enter** keyboard shortcut. In addition, Markdown cells can be edited by typically double-clicking the cell to enter edit mode."
   ]
  },
  {
   "cell_type": "markdown",
   "metadata": {},
   "source": [
    "---\n",
    "## Step 0: Load The Data"
   ]
  },
  {
   "cell_type": "code",
   "execution_count": 1,
   "metadata": {},
   "outputs": [],
   "source": [
    "# Load pickled data\n",
    "import pickle\n",
    "\n",
    "# TODO: Fill this in based on where you saved the training and testing data\n",
    "\n",
    "training_file = \"traffic-signs-data/train.p\"\n",
    "validation_file=\"traffic-signs-data/valid.p\"\n",
    "testing_file =  \"traffic-signs-data/test.p\"\n",
    "\n",
    "with open(training_file, mode='rb') as f:\n",
    "    train = pickle.load(f)\n",
    "with open(validation_file, mode='rb') as f:\n",
    "    valid = pickle.load(f)\n",
    "with open(testing_file, mode='rb') as f:\n",
    "    test = pickle.load(f)\n",
    "    \n",
    "X_train, y_train = train['features'], train['labels']\n",
    "X_valid, y_valid = valid['features'], valid['labels']\n",
    "X_test, y_test = test['features'], test['labels']\n",
    "\n",
    "#print(X_train.shape)\n",
    "#print(X_train)"
   ]
  },
  {
   "cell_type": "markdown",
   "metadata": {},
   "source": [
    "---\n",
    "\n",
    "## Step 1: Dataset Summary & Exploration\n",
    "\n",
    "The pickled data is a dictionary with 4 key/value pairs:\n",
    "\n",
    "- `'features'` is a 4D array containing raw pixel data of the traffic sign images, (num examples, width, height, channels).\n",
    "- `'labels'` is a 1D array containing the label/class id of the traffic sign. The file `signnames.csv` contains id -> name mappings for each id.\n",
    "- `'sizes'` is a list containing tuples, (width, height) representing the original width and height the image.\n",
    "- `'coords'` is a list containing tuples, (x1, y1, x2, y2) representing coordinates of a bounding box around the sign in the image. **THESE COORDINATES ASSUME THE ORIGINAL IMAGE. THE PICKLED DATA CONTAINS RESIZED VERSIONS (32 by 32) OF THESE IMAGES**\n",
    "\n",
    "Complete the basic data summary below. Use python, numpy and/or pandas methods to calculate the data summary rather than hard coding the results. For example, the [pandas shape method](http://pandas.pydata.org/pandas-docs/stable/generated/pandas.DataFrame.shape.html) might be useful for calculating some of the summary results. "
   ]
  },
  {
   "cell_type": "markdown",
   "metadata": {},
   "source": [
    "### Provide a Basic Summary of the Data Set Using Python, Numpy and/or Pandas"
   ]
  },
  {
   "cell_type": "code",
   "execution_count": 2,
   "metadata": {},
   "outputs": [
    {
     "name": "stdout",
     "output_type": "stream",
     "text": [
      "Number of training examples = 34799\n",
      "Number of validation examples = 12630\n",
      "Number of testing examples = 12630\n",
      "Image data shape = [32, 32, 3]\n",
      "Number of classes = 43\n"
     ]
    }
   ],
   "source": [
    "### Replace each question mark with the appropriate value. \n",
    "### Use python, pandas or numpy methods rather than hard coding the results\n",
    "import numpy as np\n",
    "\n",
    "# TODO: Number of training examples\n",
    "n_train = train['features'].shape[0]\n",
    "\n",
    "# TODO: Number of validation examples\n",
    "n_validation = valid['features'].shape[0]\n",
    "\n",
    "# TODO: Number of testing examples.\n",
    "n_test = test['features'].shape[0]\n",
    "\n",
    "# TODO: What's the shape of an traffic sign image?\n",
    "image_shape = [train['features'].shape[1], train['features'].shape[2], train['features'].shape[3]]\n",
    "\n",
    "# TODO: How many unique classes/labels there are in the dataset.\n",
    "n_classes = len(np.unique(train['labels']))\n",
    "\n",
    "print(\"Number of training examples =\", n_train)\n",
    "print(\"Number of validation examples =\", n_test)\n",
    "print(\"Number of testing examples =\", n_test)\n",
    "print(\"Image data shape =\", image_shape)\n",
    "print(\"Number of classes =\", n_classes)"
   ]
  },
  {
   "cell_type": "markdown",
   "metadata": {},
   "source": [
    "### Include an exploratory visualization of the dataset"
   ]
  },
  {
   "cell_type": "markdown",
   "metadata": {},
   "source": [
    "Visualize the German Traffic Signs Dataset using the pickled file(s). This is open ended, suggestions include: plotting traffic sign images, plotting the count of each sign, etc. \n",
    "\n",
    "The [Matplotlib](http://matplotlib.org/) [examples](http://matplotlib.org/examples/index.html) and [gallery](http://matplotlib.org/gallery.html) pages are a great resource for doing visualizations in Python.\n",
    "\n",
    "**NOTE:** It's recommended you start with something simple first. If you wish to do more, come back to it after you've completed the rest of the sections. It can be interesting to look at the distribution of classes in the training, validation and test set. Is the distribution the same? Are there more examples of some classes than others?"
   ]
  },
  {
   "cell_type": "code",
   "execution_count": 3,
   "metadata": {},
   "outputs": [
    {
     "name": "stdout",
     "output_type": "stream",
     "text": [
      "13\n"
     ]
    },
    {
     "data": {
      "text/plain": [
       "23034"
      ]
     },
     "execution_count": 3,
     "metadata": {},
     "output_type": "execute_result"
    },
    {
     "data": {
      "image/png": "[encoded data removed]",
      "text/plain": [
       "<matplotlib.figure.Figure at 0x20ae29ad0f0>"
      ]
     },
     "metadata": {},
     "output_type": "display_data"
    }
   ],
   "source": [
    "### Data exploration visualization code goes here.\n",
    "### Feel free to use as many code cells as needed.\n",
    "import matplotlib.pyplot as plt\n",
    "# Visualizations will be shown in the notebook.\n",
    "%matplotlib inline\n",
    "import random \n",
    "\n",
    "def printSignAndClass(x, idx=-1):\n",
    "    if(idx==-1):\n",
    "        index = random.randint(0, len(x))\n",
    "    else:\n",
    "        index = idx\n",
    "    image = x[index].squeeze()\n",
    "\n",
    "    print(y_train[index])\n",
    "    plt.figure(figsize=(2,2))\n",
    "    plt.imshow(image, cmap=\"gray\")\n",
    "    return index\n",
    "\n",
    "printSignAndClass(X_train)"
   ]
  },
  {
   "cell_type": "code",
   "execution_count": 4,
   "metadata": {},
   "outputs": [
    {
     "name": "stdout",
     "output_type": "stream",
     "text": [
      "[ 0  1  2  3  4  5  6  7  8  9 10 11 12 13 14 15 16 17 18 19 20 21 22 23 24\n",
      " 25 26 27 28 29 30 31 32 33 34 35 36 37 38 39 40 41 42] \n",
      " [ 180 1980 2010 1260 1770 1650  360 1290 1260 1320 1800 1170 1890 1920  690\n",
      "  540  360  990 1080  180  300  270  330  450  240 1350  540  210  480  240\n",
      "  390  690  210  599  360 1080  330  180 1860  270  300  210  210]\n"
     ]
    }
   ],
   "source": [
    "index,counts = np.unique(y_train, return_counts=True)\n",
    "print(index, \"\\n\", counts)"
   ]
  },
  {
   "cell_type": "markdown",
   "metadata": {},
   "source": [
    "----\n",
    "\n",
    "## Step 2: Design and Test a Model Architecture\n",
    "\n",
    "Design and implement a deep learning model that learns to recognize traffic signs. Train and test your model on the [German Traffic Sign Dataset](http://benchmark.ini.rub.de/?section=gtsrb&subsection=dataset).\n",
    "\n",
    "The LeNet-5 implementation shown in the [classroom](https://classroom.udacity.com/nanodegrees/nd013/parts/fbf77062-5703-404e-b60c-95b78b2f3f9e/modules/6df7ae49-c61c-4bb2-a23e-6527e69209ec/lessons/601ae704-1035-4287-8b11-e2c2716217ad/concepts/d4aca031-508f-4e0b-b493-e7b706120f81) at the end of the CNN lesson is a solid starting point. You'll have to change the number of classes and possibly the preprocessing, but aside from that it's plug and play! \n",
    "\n",
    "With the LeNet-5 solution from the lecture, you should expect a validation set accuracy of about 0.89. To meet specifications, the validation set accuracy will need to be at least 0.93. It is possible to get an even higher accuracy, but 0.93 is the minimum for a successful project submission. \n",
    "\n",
    "There are various aspects to consider when thinking about this problem:\n",
    "\n",
    "- Neural network architecture (is the network over or underfitting?)\n",
    "- Play around preprocessing techniques (normalization, rgb to grayscale, etc)\n",
    "- Number of examples per label (some have more than others).\n",
    "- Generate fake data.\n",
    "\n",
    "Here is an example of a [published baseline model on this problem](http://yann.lecun.com/exdb/publis/pdf/sermanet-ijcnn-11.pdf). It's not required to be familiar with the approach used in the paper but, it's good practice to try to read papers like these."
   ]
  },
  {
   "cell_type": "markdown",
   "metadata": {},
   "source": [
    "### Pre-process the Data Set (normalization, grayscale, etc.)"
   ]
  },
  {
   "cell_type": "markdown",
   "metadata": {},
   "source": [
    "Minimally, the image data should be normalized so that the data has mean zero and equal variance. For image data, `(pixel - 128)/ 128` is a quick way to approximately normalize the data and can be used in this project. \n",
    "\n",
    "Other pre-processing steps are optional. You can try different techniques to see if it improves performance. \n",
    "\n",
    "Use the code cell (or multiple code cells, if necessary) to implement the first step of your project."
   ]
  },
  {
   "cell_type": "code",
   "execution_count": 5,
   "metadata": {},
   "outputs": [
    {
     "name": "stdout",
     "output_type": "stream",
     "text": [
      "(34799, 32, 32, 1)\n",
      "10\n"
     ]
    },
    {
     "data": {
      "image/png": "[encoded data removed]",
      "text/plain": [
       "<matplotlib.figure.Figure at 0x20aef3e3e80>"
      ]
     },
     "metadata": {},
     "output_type": "display_data"
    }
   ],
   "source": [
    "### Preprocess the data here. It is required to normalize the data. Other preprocessing steps could include \n",
    "### converting to grayscale, etc.\n",
    "### Feel free to use as many code cells as needed.\n",
    "from sklearn.utils import shuffle\n",
    "import tensorflow as tf\n",
    "\n",
    "# convert color image to grayscale\n",
    "# the trick for np.dot product to keep the same shape as X_train is to dot with a vertical array\n",
    "def rgb2gray(x):\n",
    "    return np.dot(x, [[0.299], [0.587], [0.144]])\n",
    "\n",
    "gray_train = rgb2gray(X_train)\n",
    "gray_valid = rgb2gray(X_valid)\n",
    "gray_test  = rgb2gray(X_test)\n",
    "\n",
    "image_shape = gray_train.shape\n",
    "print(gray_train.shape)\n",
    "\n",
    "idex = printSignAndClass(gray_train, 17904)"
   ]
  },
  {
   "cell_type": "code",
   "execution_count": 6,
   "metadata": {},
   "outputs": [
    {
     "name": "stdout",
     "output_type": "stream",
     "text": [
      "10\n"
     ]
    },
    {
     "data": {
      "text/plain": [
       "17904"
      ]
     },
     "execution_count": 6,
     "metadata": {},
     "output_type": "execute_result"
    },
    {
     "data": {
      "image/png": "[encoded data removed]",
      "text/plain": [
       "<matplotlib.figure.Figure at 0x20a862c9c18>"
      ]
     },
     "metadata": {},
     "output_type": "display_data"
    }
   ],
   "source": [
    "printSignAndClass(X_train, 17904)"
   ]
  },
  {
   "cell_type": "code",
   "execution_count": 7,
   "metadata": {},
   "outputs": [],
   "source": [
    "#normalize gay_train to 0to1 base on 256 color pixels\n",
    "gray_train = gray_train/256\n",
    "\n",
    "#shuffle dataset to improve randomization\n",
    "X_train, y_train = shuffle(gray_train, y_train)\n",
    "\n",
    "#apply gray scale to valid and test dataset\n",
    "X_valid = gray_valid\n",
    "X_test  = gray_test\n"
   ]
  },
  {
   "cell_type": "markdown",
   "metadata": {},
   "source": [
    "### Model Architecture"
   ]
  },
  {
   "cell_type": "code",
   "execution_count": 8,
   "metadata": {
    "collapsed": true
   },
   "outputs": [],
   "source": [
    "### Define your architecture here.\n",
    "### Feel free to use as many code cells as needed.\n",
    "from tensorflow.contrib.layers import flatten\n",
    "\n",
    "EPOCHS = 10\n",
    "BATCH_SIZE = 128\n",
    "\n",
    "\n",
    "def LeNet(x, keep_prob=1):    \n",
    "    # Arguments used for tf.truncated_normal, randomly defines variables for the weights and biases for each layer\n",
    "    mu = 0\n",
    "    sigma = 0.1\n",
    "    color_chn = image_shape[3]\n",
    "    \n",
    "    #define weight for conv1, size of weight = [filter width, filter height, input depth, output depth]\n",
    "    w1 = tf.Variable(tf.truncated_normal([5,5,color_chn,64], mean = mu, stddev = sigma))\n",
    "    #define bias for conv1, size of bias = [1d array with weight of (output depth)]\n",
    "    b1 = tf.Variable(tf.zeros(64))\n",
    "\n",
    "    # TODO: Layer 1: Convolutional. Input = 32x32x3. Output = 28x28x64.\n",
    "    #tf.nn.conv2d(inputs=x, weight, stride=[1,1,1,1] (stride of 1), padding=\"same\", activation=tf.nn.relu)\n",
    "    conv1 = tf.nn.conv2d(x, w1, [1,1,1,1], \"VALID\")\n",
    "    #tf.nn.bias_add(value=tensor, bias=1d tensor)\n",
    "    conv1 = tf.nn.bias_add(conv1, b1)\n",
    "    # TODO: Activation.\n",
    "    conv1 = tf.nn.relu(conv1)\n",
    "    # add dropout to balance the oversample on high samply count items\n",
    "    conv1 = tf.nn.dropout(conv1, keep_prob)\n",
    "    print('size of conv1=', conv1)\n",
    "   \n",
    "    # TODO: Pooling. Input = 28x28x64. Output = 14x14x64.\n",
    "    #tf.nn.maxpool(inputs=conv1, filter size=[1,2,2,1], strides size=[1,2,2,1], padding='SAME')\n",
    "    pool1 = tf.nn.max_pool(conv1, [1,2,2,1], [1,2,2,1], \"VALID\")\n",
    "    print('size of pool1=', pool1)\n",
    "\n",
    "    \n",
    "    \n",
    "    #define weight for conv2, size of weight = [filter width, filter height, input depth, output depth]\n",
    "    w2 = tf.Variable(tf.truncated_normal([5,5,64,128], mean = mu, stddev = sigma))\n",
    "    #define bias for conv2, size of bias = [1d array with weight of (output depth)]\n",
    "    b2 = tf.Variable(tf.zeros(128))\n",
    "\n",
    "    # TODO: Layer 2: Convolutional. input 14x14x64, Output = 10x10x128.\n",
    "    conv2 = tf.nn.conv2d(pool1, w2, [1,1,1,1], \"VALID\")\n",
    "    #tf.nn.bias_add(value=tensor, bias=1d tensor)\n",
    "    conv2 = tf.nn.bias_add(conv2, b2)\n",
    "    # TODO: Activation.\n",
    "    conv2 = tf.nn.relu(conv2)\n",
    "    # add dropout to balance the oversample on high samply count items\n",
    "    conv2 = tf.nn.dropout(conv2, keep_prob)\n",
    "    print('size of conv2=',conv2)\n",
    "    \n",
    "    # TODO: Pooling. Input = 10x10x128. Output = 5x5x128.\n",
    "    #tf.nn.maxpool(inputs=conv1, filter size=[1,2,2,1], strides size=[1,2,2,1], padding='SAME')\n",
    "    pool2 = tf.nn.max_pool(conv2, [1,2,2,1], [1,2,2,1], \"VALID\")\n",
    "    print('size of pool2=', pool2)\n",
    "\n",
    "    \n",
    "    \n",
    "    #define weight for flatten and fully connected layer fco, size of weight = [input depth, output depth]\n",
    "    w3 = tf.Variable(tf.truncated_normal([5*5*128, 256], mean = mu, stddev = sigma))\n",
    "    #define bias for fco, size of bias = [1d array with weight of (output depth)]\n",
    "    b3 = tf.Variable(tf.zeros(256))\n",
    "    \n",
    "    # TODO: Flatten. Input = 5x5x16. Output = 3200.\n",
    "    #flat = tf.reshape(pool2, [-1, w3.get_shape().as_list()[0]])\n",
    "    flat = flatten(pool2)\n",
    "    print('size of flat=', flat)\n",
    "    # TODO: Layer 3: Fully Connected. Input = 3200. Output = 256.\n",
    "    fcon = tf.add(tf.matmul(flat, w3), b3) \n",
    "    # TODO: Activation.\n",
    "    fcon = tf.nn.relu(fcon)\n",
    "    # add dropout to balance the oversample on high samply count items\n",
    "    fcon = tf.nn.dropout(fcon, keep_prob)\n",
    "    print('size of fcon=', fcon)\n",
    "    \n",
    "\n",
    "    \n",
    "    #define weight for fully connected layer fco1, size of weight = [input depth, output depth]\n",
    "    w4 = tf.Variable(tf.truncated_normal([256, 84], mean = mu, stddev = sigma))\n",
    "    #define bias for fco1, size of bias = [1d array with weight of (output depth)]\n",
    "    b4 = tf.Variable(tf.zeros(84))\n",
    "    \n",
    "    # TODO: Layer 4: Fully Connected. Input = 256. Output = 84.\n",
    "    fco1 = tf.add(tf.matmul(fcon, w4), b4)\n",
    "    # TODO: Activation.\n",
    "    fco1 = tf.nn.relu(fco1)\n",
    "    # add dropout to balance the oversample on high samply count items\n",
    "    fco1 = tf.nn.dropout(fco1, keep_prob)\n",
    "    print('size of fco1=', fco1)\n",
    "    \n",
    "\n",
    "    \n",
    "    #there are 43 unique output(n_classes)\n",
    "    #define weight for fully connected layer fco1, size of weight = [input depth, output depth]\n",
    "    w5 = tf.Variable(tf.truncated_normal([84, n_classes], mean = mu, stddev = sigma))\n",
    "    #define bias for fco1, size of bias = [1d array with weight of (output depth)]\n",
    "    b5 = tf.Variable(tf.zeros(n_classes))\n",
    "    \n",
    "    # TODO: Layer 5: Fully Connected. Input = 84. Output = 43.\n",
    "    logits = tf.add(tf.matmul(fco1, w5), b5)\n",
    "    print('size of logits=', logits)\n",
    "    \n",
    "    return logits\n",
    "\n",
    "\n"
   ]
  },
  {
   "cell_type": "markdown",
   "metadata": {},
   "source": [
    "### Train, Validate and Test the Model"
   ]
  },
  {
   "cell_type": "markdown",
   "metadata": {},
   "source": [
    "A validation set can be used to assess how well the model is performing. A low accuracy on the training and validation\n",
    "sets imply underfitting. A high accuracy on the training set but low accuracy on the validation set implies overfitting."
   ]
  },
  {
   "cell_type": "code",
   "execution_count": 9,
   "metadata": {},
   "outputs": [
    {
     "name": "stdout",
     "output_type": "stream",
     "text": [
      "size of conv1= Tensor(\"dropout/mul:0\", shape=(?, 28, 28, 64), dtype=float32)\n",
      "size of pool1= Tensor(\"MaxPool:0\", shape=(?, 14, 14, 64), dtype=float32)\n",
      "size of conv2= Tensor(\"dropout_1/mul:0\", shape=(?, 10, 10, 128), dtype=float32)\n",
      "size of pool2= Tensor(\"MaxPool_1:0\", shape=(?, 5, 5, 128), dtype=float32)\n",
      "size of flat= Tensor(\"Flatten/Reshape:0\", shape=(?, 3200), dtype=float32)\n",
      "size of fcon= Tensor(\"dropout_2/mul:0\", shape=(?, 256), dtype=float32)\n",
      "size of fco1= Tensor(\"dropout_3/mul:0\", shape=(?, 84), dtype=float32)\n",
      "size of logits= Tensor(\"Add_2:0\", shape=(?, 43), dtype=float32)\n",
      "cross_entropy= Tensor(\"Reshape_2:0\", shape=(?,), dtype=float32)\n",
      "loss_operation= Tensor(\"Mean:0\", shape=(), dtype=float32)\n",
      "training_operation= name: \"Adam\"\n",
      "op: \"NoOp\"\n",
      "input: \"^Adam/update_Variable/ApplyAdam\"\n",
      "input: \"^Adam/update_Variable_1/ApplyAdam\"\n",
      "input: \"^Adam/update_Variable_2/ApplyAdam\"\n",
      "input: \"^Adam/update_Variable_3/ApplyAdam\"\n",
      "input: \"^Adam/update_Variable_4/ApplyAdam\"\n",
      "input: \"^Adam/update_Variable_5/ApplyAdam\"\n",
      "input: \"^Adam/update_Variable_6/ApplyAdam\"\n",
      "input: \"^Adam/update_Variable_7/ApplyAdam\"\n",
      "input: \"^Adam/update_Variable_8/ApplyAdam\"\n",
      "input: \"^Adam/update_Variable_9/ApplyAdam\"\n",
      "input: \"^Adam/Assign\"\n",
      "input: \"^Adam/Assign_1\"\n",
      "\n",
      "tf.argmax(logits, 1)= Tensor(\"ArgMax:0\", shape=(?,), dtype=int64)\n",
      "Training...\n",
      "\n",
      "EPOCH 1 ...\n",
      "Validation Accuracy = 0.841\n",
      "\n",
      "EPOCH 2 ...\n",
      "Validation Accuracy = 0.881\n",
      "\n",
      "EPOCH 3 ...\n",
      "Validation Accuracy = 0.932\n",
      "\n",
      "EPOCH 4 ...\n",
      "Validation Accuracy = 0.941\n",
      "\n",
      "EPOCH 5 ...\n",
      "Validation Accuracy = 0.949\n",
      "\n",
      "EPOCH 6 ...\n",
      "Validation Accuracy = 0.945\n",
      "\n",
      "EPOCH 7 ...\n",
      "Validation Accuracy = 0.936\n",
      "\n",
      "EPOCH 8 ...\n",
      "Validation Accuracy = 0.951\n",
      "\n",
      "EPOCH 9 ...\n",
      "Validation Accuracy = 0.949\n",
      "\n",
      "EPOCH 10 ...\n",
      "Validation Accuracy = 0.942\n",
      "\n",
      "Model saved\n"
     ]
    }
   ],
   "source": [
    "### Train your model here.\n",
    "### Calculate and report the accuracy on the training and validation set.\n",
    "### Once a final model architecture is selected, \n",
    "### the accuracy on the test set should be calculated and reported as well.\n",
    "### Feel free to use as many code cells as needed.\n",
    "\n",
    "\n",
    "#training pipeline\n",
    "x = tf.placeholder(tf.float32, (None, image_shape[1],  image_shape[2],  image_shape[3]))\n",
    "y = tf.placeholder(tf.int32, (None))\n",
    "one_hot_y = tf.one_hot(y, n_classes)\n",
    "keep_probs = tf.placeholder(tf.float32)\n",
    "\n",
    "#learning rate\n",
    "rate = 0.005\n",
    "train_prob = 0.7\n",
    "\n",
    "logits = LeNet(x, keep_probs)\n",
    "cross_entropy = tf.nn.softmax_cross_entropy_with_logits(labels=one_hot_y, logits=logits)\n",
    "print(\"cross_entropy=\", cross_entropy)\n",
    "loss_operation = tf.reduce_mean(cross_entropy)\n",
    "print(\"loss_operation=\", loss_operation)\n",
    "optimizer = tf.train.AdamOptimizer(learning_rate = rate)\n",
    "training_operation = optimizer.minimize(loss_operation)\n",
    "print(\"training_operation=\", training_operation)\n",
    "\n",
    "\n",
    "#evaluation\n",
    "print(\"tf.argmax(logits, 1)=\", tf.argmax(logits, 1))\n",
    "correct_prediction = tf.equal(tf.argmax(logits, 1), tf.argmax(one_hot_y, 1))\n",
    "accuracy_operation = tf.reduce_mean(tf.cast(correct_prediction, tf.float32))\n",
    "saver = tf.train.Saver()\n",
    "\n",
    "def evaluate(X_data, y_data, keep_prob=1):\n",
    "    num_examples = X_data.shape[0]\n",
    "    total_accuracy = 0\n",
    "    sess = tf.get_default_session()\n",
    "    for offset in range(0, num_examples, BATCH_SIZE):\n",
    "        batch_x, batch_y = X_data[offset:offset+BATCH_SIZE], y_data[offset:offset+BATCH_SIZE]\n",
    "        accuracy = sess.run(accuracy_operation, feed_dict={x: batch_x, y: batch_y, keep_probs:keep_prob})\n",
    "        total_accuracy += (accuracy * len(batch_x))\n",
    "    return total_accuracy / num_examples\n",
    "\n",
    "\n",
    "#Training\n",
    "with tf.Session() as sess:\n",
    "    sess.run(tf.global_variables_initializer())\n",
    "    num_examples = X_train.shape[0]\n",
    "    \n",
    "    print(\"Training...\")\n",
    "    print()\n",
    "    for i in range(EPOCHS):\n",
    "        X_train, y_train = shuffle(X_train, y_train)\n",
    "        for offset in range(0, num_examples, BATCH_SIZE):\n",
    "            end = offset + BATCH_SIZE\n",
    "            batch_x, batch_y = X_train[offset:end], y_train[offset:end]\n",
    "            sess.run(training_operation, feed_dict={x:batch_x, y:batch_y, keep_probs:train_prob})\n",
    "            \n",
    "        validation_accuracy = evaluate(X_valid, y_valid)\n",
    "        print(\"EPOCH {} ...\".format(i+1))\n",
    "        print(\"Validation Accuracy = {:.3f}\".format(validation_accuracy))\n",
    "        print()\n",
    "        \n",
    "    saver.save(sess, './lenet')\n",
    "    print(\"Model saved\")"
   ]
  },
  {
   "cell_type": "code",
   "execution_count": 10,
   "metadata": {},
   "outputs": [
    {
     "name": "stdout",
     "output_type": "stream",
     "text": [
      "INFO:tensorflow:Restoring parameters from .\\lenet\n",
      "Test Accuracy = 0.914\n"
     ]
    }
   ],
   "source": [
    "#evalute the accurracy\n",
    "with tf.Session() as sess:\n",
    "    saver.restore(sess, tf.train.latest_checkpoint('.'))\n",
    "\n",
    "    test_accuracy = evaluate(X_test, y_test)\n",
    "    print(\"Test Accuracy = {:.3f}\".format(test_accuracy))"
   ]
  },
  {
   "cell_type": "markdown",
   "metadata": {},
   "source": [
    "---\n",
    "\n",
    "## Step 3: Test a Model on New Images\n",
    "\n",
    "To give yourself more insight into how your model is working, download at least five pictures of German traffic signs from the web and use your model to predict the traffic sign type.\n",
    "\n",
    "You may find `signnames.csv` useful as it contains mappings from the class id (integer) to the actual sign name."
   ]
  },
  {
   "cell_type": "markdown",
   "metadata": {},
   "source": [
    "### Load and Output the Images"
   ]
  },
  {
   "cell_type": "code",
   "execution_count": 99,
   "metadata": {},
   "outputs": [
    {
     "name": "stdout",
     "output_type": "stream",
     "text": [
      "New Images\\00000_00000.ppm\n",
      "New Images\\00001_00000.ppm\n",
      "New Images\\00002_00000.ppm\n",
      "New Images\\00003_00000.ppm\n",
      "New Images\\00004_00000.ppm\n",
      "New Images\\00005_00000.ppm\n",
      "New Images\\00006_00000.ppm\n",
      "New Images\\00007_00000.ppm\n",
      "New Images\\00008_00000.ppm\n",
      "New Images\\00009_00000.ppm\n",
      "New Images\\00010_00024.ppm\n",
      "New Images\\00011_00023.ppm\n",
      "New Images\\00012_00018.ppm\n",
      "New Images\\00013_00015.ppm\n",
      "New Images\\00014_00013.ppm\n",
      "New Images\\00015_00013.ppm\n",
      "New Images\\00016_00024.ppm\n",
      "New Images\\00017_00011.ppm\n",
      "New Images\\00018_00022.ppm\n",
      "New Images\\00019_00020.ppm\n",
      "[0, 1, 2, 3, 4, 5, 6, 7, 8, 9, 10, 11, 12, 13, 14, 15, 16, 17, 18, 19]\n"
     ]
    }
   ],
   "source": [
    "### Load the images and plot them here.\n",
    "### Feel free to use as many code cells as needed.\n",
    "import glob\n",
    "import cv2\n",
    "import numpy as np\n",
    "\n",
    "new_images = []\n",
    "new_labels = [0,1,2,3,4,5,6,7,8,9,10,11,12,13,14,15,16,17,18,19]\n",
    "new_gray = []\n",
    "\n",
    "for infile in glob.glob(\"New Images\\*.ppm\"):\n",
    "    print(infile)\n",
    "    image = cv2.imread(infile)\n",
    "    image = cv2.resize(image, (image_shape[1],image_shape[2])) # 32x32\n",
    "    #print(image)\n",
    "    new_images.append(image)\n",
    "\n",
    "#convert list of new_images to numpy array to be used in our LeNet model\n",
    "new_images=np.array(new_images)\n",
    "#print(new_images.shape)\n",
    "print(new_labels)\n",
    "\n",
    "#apply gray scale\n",
    "new_gray = rgb2gray(new_images)\n",
    "\n",
    "#normalize image to 0to1 base on 256 color pixels\n",
    "new_gray = new_gray/256"
   ]
  },
  {
   "cell_type": "code",
   "execution_count": 129,
   "metadata": {},
   "outputs": [
    {
     "name": "stdout",
     "output_type": "stream",
     "text": [
      "36\n"
     ]
    },
    {
     "data": {
      "image/png": "[encoded data removed]",
      "text/plain": [
       "<matplotlib.figure.Figure at 0x20aad9b07f0>"
      ]
     },
     "metadata": {},
     "output_type": "display_data"
    }
   ],
   "source": [
    "#plot original image\n",
    "idx1 = printSignAndClass(new_images,19)"
   ]
  },
  {
   "cell_type": "code",
   "execution_count": 130,
   "metadata": {},
   "outputs": [
    {
     "name": "stdout",
     "output_type": "stream",
     "text": [
      "36\n"
     ]
    },
    {
     "data": {
      "text/plain": [
       "19"
      ]
     },
     "execution_count": 130,
     "metadata": {},
     "output_type": "execute_result"
    },
    {
     "data": {
      "image/png": "[encoded data removed]",
      "text/plain": [
       "<matplotlib.figure.Figure at 0x20aac4cc2b0>"
      ]
     },
     "metadata": {},
     "output_type": "display_data"
    }
   ],
   "source": [
    "#plot grayscale image\n",
    "printSignAndClass(new_gray, idx1)"
   ]
  },
  {
   "cell_type": "markdown",
   "metadata": {},
   "source": [
    "### Predict the Sign Type for Each Image"
   ]
  },
  {
   "cell_type": "code",
   "execution_count": 55,
   "metadata": {},
   "outputs": [
    {
     "name": "stdout",
     "output_type": "stream",
     "text": [
      "INFO:tensorflow:Restoring parameters from .\\lenet\n",
      "prediction   :  [ 5 16 13 15  1 12 17 19  9 10 11  7  2  4 14  8  6 18  3  0]\n",
      "class labels :  [5, 16, 13, 15, 1, 12, 17, 19, 9, 10, 11, 7, 2, 4, 14, 8, 6, 18, 3, 0]\n"
     ]
    }
   ],
   "source": [
    "### Run the predictions here and use the model to output the prediction for each image.\n",
    "### Make sure to pre-process the images with the same pre-processing pipeline used earlier.\n",
    "### Feel free to use as many code cells as needed.\n",
    "\n",
    "#assign grayscale images back to new_images array\n",
    "new_images = new_gray\n",
    "new_images, new_labels = shuffle(new_images, new_labels)\n",
    "\n",
    "#Prediction\n",
    "with tf.Session() as sess:\n",
    "    saver.restore(sess, tf.train.latest_checkpoint('.'))\n",
    "    \n",
    "    #for i in range (0, 10):\n",
    "        #print(\"original result[\",i,\"] = \", new_labels[i])\n",
    "        #cross_ent = sess.run(cross_entropy, feed_dict={x:[new_images[i]], y:[new_labels[i]], keep_probs:1})\n",
    "        #print(\"cross_entropy  [\",i,\"] = \", cross_ent)\n",
    "    \n",
    "    result = sess.run(tf.argmax(logits, 1), feed_dict={x:new_images, keep_probs:1})\n",
    "    print(\"prediction   : \", result)\n",
    "    print(\"class labels : \", new_labels)\n",
    "        "
   ]
  },
  {
   "cell_type": "markdown",
   "metadata": {},
   "source": [
    "### Analyze Performance"
   ]
  },
  {
   "cell_type": "code",
   "execution_count": 56,
   "metadata": {},
   "outputs": [
    {
     "name": "stdout",
     "output_type": "stream",
     "text": [
      "INFO:tensorflow:Restoring parameters from .\\lenet\n",
      "Test Accuracy = 1.000\n"
     ]
    }
   ],
   "source": [
    "### Calculate the accuracy for these 5 new images. \n",
    "### For example, if the model predicted 1 out of 5 signs correctly, it's 20% accurate on these new images.\n",
    "\n",
    "\n",
    "with tf.Session() as sess:\n",
    "    saver.restore(sess, tf.train.latest_checkpoint('.'))\n",
    "\n",
    "    test_accuracy = evaluate(new_images, new_labels)\n",
    "    print(\"Test Accuracy = {:.3f}\".format(test_accuracy))"
   ]
  },
  {
   "cell_type": "markdown",
   "metadata": {},
   "source": [
    "### Output Top 5 Softmax Probabilities For Each Image Found on the Web"
   ]
  },
  {
   "cell_type": "markdown",
   "metadata": {},
   "source": [
    "For each of the new images, print out the model's softmax probabilities to show the **certainty** of the model's predictions (limit the output to the top 5 probabilities for each image). [`tf.nn.top_k`](https://www.tensorflow.org/versions/r0.12/api_docs/python/nn.html#top_k) could prove helpful here. \n",
    "\n",
    "The example below demonstrates how tf.nn.top_k can be used to find the top k predictions for each image.\n",
    "\n",
    "`tf.nn.top_k` will return the values and indices (class ids) of the top k predictions. So if k=3, for each sign, it'll return the 3 largest probabilities (out of a possible 43) and the correspoding class ids.\n",
    "\n",
    "Take this numpy array as an example. The values in the array represent predictions. The array contains softmax probabilities for five candidate images with six possible classes. `tf.nn.top_k` is used to choose the three classes with the highest probability:\n",
    "\n",
    "```\n",
    "# (5, 6) array\n",
    "a = np.array([[ 0.24879643,  0.07032244,  0.12641572,  0.34763842,  0.07893497,\n",
    "         0.12789202],\n",
    "       [ 0.28086119,  0.27569815,  0.08594638,  0.0178669 ,  0.18063401,\n",
    "         0.15899337],\n",
    "       [ 0.26076848,  0.23664738,  0.08020603,  0.07001922,  0.1134371 ,\n",
    "         0.23892179],\n",
    "       [ 0.11943333,  0.29198961,  0.02605103,  0.26234032,  0.1351348 ,\n",
    "         0.16505091],\n",
    "       [ 0.09561176,  0.34396535,  0.0643941 ,  0.16240774,  0.24206137,\n",
    "         0.09155967]])\n",
    "```\n",
    "\n",
    "Running it through `sess.run(tf.nn.top_k(tf.constant(a), k=3))` produces:\n",
    "\n",
    "```\n",
    "TopKV2(values=array([[ 0.34763842,  0.24879643,  0.12789202],\n",
    "       [ 0.28086119,  0.27569815,  0.18063401],\n",
    "       [ 0.26076848,  0.23892179,  0.23664738],\n",
    "       [ 0.29198961,  0.26234032,  0.16505091],\n",
    "       [ 0.34396535,  0.24206137,  0.16240774]]), indices=array([[3, 0, 5],\n",
    "       [0, 1, 4],\n",
    "       [0, 5, 1],\n",
    "       [1, 3, 5],\n",
    "       [1, 4, 3]], dtype=int32))\n",
    "```\n",
    "\n",
    "Looking just at the first row we get `[ 0.34763842,  0.24879643,  0.12789202]`, you can confirm these are the 3 largest probabilities in `a`. You'll also notice `[3, 0, 5]` are the corresponding indices."
   ]
  },
  {
   "cell_type": "code",
   "execution_count": 97,
   "metadata": {},
   "outputs": [
    {
     "name": "stdout",
     "output_type": "stream",
     "text": [
      "(5, 32, 32, 1)\n",
      "INFO:tensorflow:Restoring parameters from .\\lenet\n",
      "[[  2.06457558e-25   3.59999136e-18   4.87679537e-16   1.64791090e-14\n",
      "    1.02967656e-19   2.47635181e-12   3.08322713e-22   1.12949833e-17\n",
      "    1.39092786e-17   6.53284953e-21   4.27841437e-17   4.47387531e-22\n",
      "    1.15607409e-19   7.73222779e-22   1.18797830e-20   7.00114710e-19\n",
      "    4.74572226e-20   1.49792376e-29   7.25015628e-22   1.02939618e-21\n",
      "    2.08866828e-22   9.89771345e-23   3.33729224e-27   4.59037914e-25\n",
      "    1.89859443e-25   3.66084322e-20   1.87945467e-22   1.27415051e-25\n",
      "    9.89662214e-24   2.94627810e-22   3.14399589e-26   2.60082193e-20\n",
      "    1.03785665e-23   4.36591597e-23   1.70436199e-24   9.52865592e-23\n",
      "    4.93850561e-23   1.91098888e-23   5.37560810e-21   7.18714131e-23\n",
      "    9.87751909e-24   1.20754363e-28   1.30272578e-22]\n",
      " [  1.05693827e-20   1.88219886e-17   2.87239856e-22   8.67156994e-17\n",
      "    2.42846233e-21   6.51597300e-16   1.92576373e-18   1.26701716e-16\n",
      "    7.43712878e-18   1.06976903e-17   5.66567796e-19   6.00327322e-17\n",
      "    6.32073909e-20   1.39503318e-26   1.09402972e-19   6.46770900e-23\n",
      "    6.15605078e-09   2.12991529e-23   4.12324914e-20   2.84914728e-21\n",
      "    6.79667248e-21   1.02455492e-25   1.36862751e-30   4.30810256e-23\n",
      "    1.47013351e-26   5.63026357e-24   9.20782213e-25   4.34744602e-21\n",
      "    2.17134557e-22   2.24060745e-27   1.89477329e-24   2.14408629e-28\n",
      "    1.37556323e-19   8.46325159e-21   1.69377963e-21   2.01841824e-21\n",
      "    5.01684013e-23   1.29778127e-23   3.11659271e-25   4.42937263e-25\n",
      "    3.04514538e-16   3.91091640e-20   3.29756192e-18]\n",
      " [  3.50673411e-23   8.17478559e-20   5.49730173e-19   4.65323940e-19\n",
      "    9.59900894e-22   1.70032520e-19   4.67693791e-28   1.03827845e-23\n",
      "    8.81717729e-20   2.27298376e-19   3.02317833e-21   1.27963468e-21\n",
      "    2.80259909e-17   6.18758433e-10   1.04925987e-19   5.17210328e-17\n",
      "    6.39136646e-26   2.00728639e-23   2.57599876e-21   2.50704618e-23\n",
      "    2.41633725e-22   5.55382210e-22   2.54126075e-22   3.60107669e-26\n",
      "    7.43886919e-24   9.93876945e-19   7.18514929e-19   9.36377973e-24\n",
      "    1.81931493e-20   1.33651132e-21   2.23100113e-22   1.19887915e-24\n",
      "    1.36675491e-22   2.30323934e-20   1.66658178e-19   5.10849475e-17\n",
      "    4.77868547e-19   2.96367585e-21   5.51461297e-18   1.62817186e-17\n",
      "    5.97885953e-20   2.59355556e-26   1.19805951e-28]\n",
      " [  2.27209761e-30   4.06136760e-16   5.54273905e-10   1.76150997e-16\n",
      "    8.48464367e-17   2.41245489e-17   3.47397875e-37   9.34156943e-26\n",
      "    1.49722147e-20   3.91470253e-15   9.57151067e-26   9.05320911e-30\n",
      "    6.50165867e-16   4.38456163e-20   3.64215234e-18   1.00000000e+00\n",
      "    2.77941423e-29   1.75492020e-38   1.46178578e-24   6.69095026e-28\n",
      "    2.98454273e-34   1.29578993e-27   7.17562048e-31   7.14202185e-26\n",
      "    9.94371112e-29   5.29271741e-27   1.47954643e-18   3.64401293e-29\n",
      "    3.11532158e-32   1.85034646e-22   2.16403127e-37   1.11631970e-29\n",
      "    9.38626543e-24   1.61733951e-28   2.22684386e-29   1.17502779e-25\n",
      "    4.85200464e-29   2.56959198e-29   1.56490999e-15   3.18489764e-27\n",
      "    2.22882443e-25   4.19815226e-34   3.90805606e-39]\n",
      " [  1.51703826e-16   4.53066438e-14   3.39941612e-16   6.24360786e-19\n",
      "    2.00030834e-17   1.08795044e-18   1.01990582e-21   6.36501749e-21\n",
      "    5.93877526e-19   2.34606415e-21   4.79393473e-22   2.79776290e-19\n",
      "    1.55634808e-19   3.12806770e-21   8.84371260e-19   3.65152652e-19\n",
      "    1.12838664e-20   5.42244478e-21   3.10246884e-19   8.42570184e-24\n",
      "    5.24736521e-21   2.92946923e-21   1.89882725e-24   1.53904364e-22\n",
      "    4.21408908e-20   6.46501425e-21   5.93237392e-20   6.80522627e-19\n",
      "    8.88034869e-20   1.17243877e-20   5.78703614e-22   1.19812326e-21\n",
      "    1.65987264e-20   4.58450443e-20   3.41165775e-23   9.78735207e-21\n",
      "    1.60241833e-22   3.46359328e-20   1.27664843e-18   1.83427223e-19\n",
      "    3.69844595e-17   8.22221707e-23   5.41188676e-24]]\n",
      "TopKV2(values=array([[  2.47635181e-12,   1.64791090e-14,   4.87679537e-16,\n",
      "          4.27841437e-17,   1.39092786e-17],\n",
      "       [  6.15605078e-09,   6.51597300e-16,   3.04514538e-16,\n",
      "          1.26701716e-16,   8.67156994e-17],\n",
      "       [  6.18758433e-10,   5.17210328e-17,   5.10849475e-17,\n",
      "          2.80259909e-17,   1.62817186e-17],\n",
      "       [  1.00000000e+00,   5.54273905e-10,   3.91470253e-15,\n",
      "          1.56490999e-15,   6.50165867e-16],\n",
      "       [  4.53066438e-14,   3.39941612e-16,   1.51703826e-16,\n",
      "          3.69844595e-17,   2.00030834e-17]], dtype=float32), indices=array([[ 5,  3,  2, 10,  8],\n",
      "       [16,  5, 40,  7,  3],\n",
      "       [13, 15, 35, 12, 39],\n",
      "       [15,  2,  9, 38, 12],\n",
      "       [ 1,  2,  0, 40,  4]]))\n"
     ]
    }
   ],
   "source": [
    "### Print out the top five softmax probabilities for the predictions on the German traffic sign images found on the web. \n",
    "### Feel free to use as many code cells as needed.\n",
    "\n",
    "def softmax(x):\n",
    "    exps = np.exp(x)\n",
    "    return exps / np.sum(exps)\n",
    "\n",
    "a = np.array([new_images[0],new_images[1],new_images[2],new_images[3],new_images[4]])\n",
    "print(a.shape)\n",
    "\n",
    "with tf.Session() as sess:\n",
    "    saver.restore(sess, tf.train.latest_checkpoint('.'))\n",
    "\n",
    "    result = sess.run(logits, feed_dict={x:a, y:new_labels[0:5], keep_probs:1})\n",
    "    print(softmax(result))\n",
    "    top5 = sess.run(tf.nn.top_k(softmax(result), k=5))\n",
    "    print(top5)\n",
    "    "
   ]
  },
  {
   "cell_type": "markdown",
   "metadata": {},
   "source": [
    "### Project Writeup\n",
    "\n",
    "Once you have completed the code implementation, document your results in a project writeup using this [template](https://github.com/udacity/CarND-Traffic-Sign-Classifier-Project/blob/master/writeup_template.md) as a guide. The writeup can be in a markdown or pdf file. "
   ]
  },
  {
   "cell_type": "markdown",
   "metadata": {},
   "source": [
    "> **Note**: Once you have completed all of the code implementations and successfully answered each question above, you may finalize your work by exporting the iPython Notebook as an HTML document. You can do this by using the menu above and navigating to  \\n\",\n",
    "    \"**File -> Download as -> HTML (.html)**. Include the finished document along with this notebook as your submission."
   ]
  },
  {
   "cell_type": "markdown",
   "metadata": {},
   "source": [
    "---\n",
    "\n",
    "## Step 4 (Optional): Visualize the Neural Network's State with Test Images\n",
    "\n",
    " This Section is not required to complete but acts as an additional excersise for understaning the output of a neural network's weights. While neural networks can be a great learning device they are often referred to as a black box. We can understand what the weights of a neural network look like better by plotting their feature maps. After successfully training your neural network you can see what it's feature maps look like by plotting the output of the network's weight layers in response to a test stimuli image. From these plotted feature maps, it's possible to see what characteristics of an image the network finds interesting. For a sign, maybe the inner network feature maps react with high activation to the sign's boundary outline or to the contrast in the sign's painted symbol.\n",
    "\n",
    " Provided for you below is the function code that allows you to get the visualization output of any tensorflow weight layer you want. The inputs to the function should be a stimuli image, one used during training or a new one you provided, and then the tensorflow variable name that represents the layer's state during the training process, for instance if you wanted to see what the [LeNet lab's](https://classroom.udacity.com/nanodegrees/nd013/parts/fbf77062-5703-404e-b60c-95b78b2f3f9e/modules/6df7ae49-c61c-4bb2-a23e-6527e69209ec/lessons/601ae704-1035-4287-8b11-e2c2716217ad/concepts/d4aca031-508f-4e0b-b493-e7b706120f81) feature maps looked like for it's second convolutional layer you could enter conv2 as the tf_activation variable.\n",
    "\n",
    "For an example of what feature map outputs look like, check out NVIDIA's results in their paper [End-to-End Deep Learning for Self-Driving Cars](https://devblogs.nvidia.com/parallelforall/deep-learning-self-driving-cars/) in the section Visualization of internal CNN State. NVIDIA was able to show that their network's inner weights had high activations to road boundary lines by comparing feature maps from an image with a clear path to one without. Try experimenting with a similar test to show that your trained network's weights are looking for interesting features, whether it's looking at differences in feature maps from images with or without a sign, or even what feature maps look like in a trained network vs a completely untrained one on the same sign image.\n",
    "\n",
    "<figure>\n",
    " <img src=\"visualize_cnn.png\" width=\"380\" alt=\"Combined Image\" />\n",
    " <figcaption>\n",
    " <p></p> \n",
    " <p style=\"text-align: center;\"> Your output should look something like this (above)</p> \n",
    " </figcaption>\n",
    "</figure>\n",
    " <p></p> \n"
   ]
  },
  {
   "cell_type": "code",
   "execution_count": null,
   "metadata": {},
   "outputs": [],
   "source": [
    "### Visualize your network's feature maps here.\n",
    "### Feel free to use as many code cells as needed.\n",
    "\n",
    "# image_input: the test image being fed into the network to produce the feature maps\n",
    "# tf_activation: should be a tf variable name used during your training procedure that represents the calculated state of a specific weight layer\n",
    "# activation_min/max: can be used to view the activation contrast in more detail, by default matplot sets min and max to the actual min and max values of the output\n",
    "# plt_num: used to plot out multiple different weight feature map sets on the same block, just extend the plt number for each new feature map entry\n",
    "\n",
    "def outputFeatureMap(image_input, tf_activation, activation_min=-1, activation_max=-1 ,plt_num=1):\n",
    "    # Here make sure to preprocess your image_input in a way your network expects\n",
    "    # with size, normalization, ect if needed\n",
    "    # image_input =\n",
    "    # Note: x should be the same name as your network's tensorflow data placeholder variable\n",
    "    # If you get an error tf_activation is not defined it may be having trouble accessing the variable from inside a function\n",
    "    activation = tf_activation.eval(session=sess,feed_dict={x : image_input})\n",
    "    featuremaps = activation.shape[3]\n",
    "    plt.figure(plt_num, figsize=(15,15))\n",
    "    for featuremap in range(featuremaps):\n",
    "        plt.subplot(6,8, featuremap+1) # sets the number of feature maps to show on each row and column\n",
    "        plt.title('FeatureMap ' + str(featuremap)) # displays the feature map number\n",
    "        if activation_min != -1 & activation_max != -1:\n",
    "            plt.imshow(activation[0,:,:, featuremap], interpolation=\"nearest\", vmin =activation_min, vmax=activation_max, cmap=\"gray\")\n",
    "        elif activation_max != -1:\n",
    "            plt.imshow(activation[0,:,:, featuremap], interpolation=\"nearest\", vmax=activation_max, cmap=\"gray\")\n",
    "        elif activation_min !=-1:\n",
    "            plt.imshow(activation[0,:,:, featuremap], interpolation=\"nearest\", vmin=activation_min, cmap=\"gray\")\n",
    "        else:\n",
    "            plt.imshow(activation[0,:,:, featuremap], interpolation=\"nearest\", cmap=\"gray\")"
   ]
  }
 ],
 "metadata": {
  "anaconda-cloud": {},
  "kernelspec": {
   "display_name": "Python 3",
   "language": "python",
   "name": "python3"
  },
  "language_info": {
   "codemirror_mode": {
    "name": "ipython",
    "version": 3
   },
   "file_extension": ".py",
   "mimetype": "text/x-python",
   "name": "python",
   "nbconvert_exporter": "python",
   "pygments_lexer": "ipython3",
   "version": "3.6.2"
  }
 },
 "nbformat": 4,
 "nbformat_minor": 1
}
